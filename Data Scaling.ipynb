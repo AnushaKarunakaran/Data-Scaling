{
 "cells": [
  {
   "cell_type": "code",
   "execution_count": 1,
   "metadata": {},
   "outputs": [],
   "source": [
    "#Importing necessary libraries\n",
    "\n",
    "import pandas as pd \n",
    "import numpy as np \n",
    "from sklearn import datasets \n",
    "\n",
    "wine = datasets.load_wine() \n",
    "wine = pd.DataFrame(\n",
    "    data=np.c_[wine['data'], wine['target']], \n",
    "    columns=wine['feature_names'] + ['target'] \n",
    ")"
   ]
  },
  {
   "cell_type": "code",
   "execution_count": 2,
   "metadata": {},
   "outputs": [
    {
     "data": {
      "text/html": [
       "<div>\n",
       "<style scoped>\n",
       "    .dataframe tbody tr th:only-of-type {\n",
       "        vertical-align: middle;\n",
       "    }\n",
       "\n",
       "    .dataframe tbody tr th {\n",
       "        vertical-align: top;\n",
       "    }\n",
       "\n",
       "    .dataframe thead th {\n",
       "        text-align: right;\n",
       "    }\n",
       "</style>\n",
       "<table border=\"1\" class=\"dataframe\">\n",
       "  <thead>\n",
       "    <tr style=\"text-align: right;\">\n",
       "      <th></th>\n",
       "      <th>magnesium</th>\n",
       "      <th>ash</th>\n",
       "      <th>alcalinity_of_ash</th>\n",
       "    </tr>\n",
       "  </thead>\n",
       "  <tbody>\n",
       "    <tr>\n",
       "      <th>count</th>\n",
       "      <td>178.000000</td>\n",
       "      <td>178.000000</td>\n",
       "      <td>178.000000</td>\n",
       "    </tr>\n",
       "    <tr>\n",
       "      <th>mean</th>\n",
       "      <td>99.741573</td>\n",
       "      <td>2.366517</td>\n",
       "      <td>19.494944</td>\n",
       "    </tr>\n",
       "    <tr>\n",
       "      <th>std</th>\n",
       "      <td>14.282484</td>\n",
       "      <td>0.274344</td>\n",
       "      <td>3.339564</td>\n",
       "    </tr>\n",
       "    <tr>\n",
       "      <th>min</th>\n",
       "      <td>70.000000</td>\n",
       "      <td>1.360000</td>\n",
       "      <td>10.600000</td>\n",
       "    </tr>\n",
       "    <tr>\n",
       "      <th>25%</th>\n",
       "      <td>88.000000</td>\n",
       "      <td>2.210000</td>\n",
       "      <td>17.200000</td>\n",
       "    </tr>\n",
       "    <tr>\n",
       "      <th>50%</th>\n",
       "      <td>98.000000</td>\n",
       "      <td>2.360000</td>\n",
       "      <td>19.500000</td>\n",
       "    </tr>\n",
       "    <tr>\n",
       "      <th>75%</th>\n",
       "      <td>107.000000</td>\n",
       "      <td>2.557500</td>\n",
       "      <td>21.500000</td>\n",
       "    </tr>\n",
       "    <tr>\n",
       "      <th>max</th>\n",
       "      <td>162.000000</td>\n",
       "      <td>3.230000</td>\n",
       "      <td>30.000000</td>\n",
       "    </tr>\n",
       "  </tbody>\n",
       "</table>\n",
       "</div>"
      ],
      "text/plain": [
       "        magnesium         ash  alcalinity_of_ash\n",
       "count  178.000000  178.000000         178.000000\n",
       "mean    99.741573    2.366517          19.494944\n",
       "std     14.282484    0.274344           3.339564\n",
       "min     70.000000    1.360000          10.600000\n",
       "25%     88.000000    2.210000          17.200000\n",
       "50%     98.000000    2.360000          19.500000\n",
       "75%    107.000000    2.557500          21.500000\n",
       "max    162.000000    3.230000          30.000000"
      ]
     },
     "execution_count": 2,
     "metadata": {},
     "output_type": "execute_result"
    }
   ],
   "source": [
    "#Descriptive Statistics of the dataset\n",
    "\n",
    "wine[['magnesium', 'ash', 'alcalinity_of_ash']].describe()"
   ]
  },
  {
   "cell_type": "code",
   "execution_count": 3,
   "metadata": {},
   "outputs": [],
   "source": [
    "#There are huge differences between the values, and a machine learning model could here easily interpret \n",
    "#magnesium as the most important attribute, due to larger scale."
   ]
  },
  {
   "cell_type": "code",
   "execution_count": 4,
   "metadata": {},
   "outputs": [],
   "source": [
    "from sklearn.preprocessing import StandardScaler \n",
    "\n",
    "# create the scaler \n",
    "ss = StandardScaler() \n",
    "\n",
    "# take a subset of the dataframe you want to scale \n",
    "wine_subset = wine[['magnesium', 'ash', 'alcalinity_of_ash']] \n",
    "\n",
    "# apply the scaler to the dataframe subset \n",
    "wine_subset_scaled = ss.fit_transform(wine_subset)"
   ]
  },
  {
   "cell_type": "code",
   "execution_count": 5,
   "metadata": {},
   "outputs": [
    {
     "name": "stdout",
     "output_type": "stream",
     "text": [
      "0.7555555555555555\n"
     ]
    }
   ],
   "source": [
    "#Non Scaled Data\n",
    "\n",
    "from sklearn.neighbors import KNeighborsClassifier \n",
    "from sklearn.model_selection import train_test_split \n",
    "\n",
    "X = wine.drop('target', axis=1) \n",
    "y = wine['target'] \n",
    "\n",
    "X_train, X_test, y_train, y_test = train_test_split(X, y) \n",
    "\n",
    "knn = KNeighborsClassifier() \n",
    "knn.fit(X_train, y_train) \n",
    "\n",
    "print(knn.score(X_test, y_test)) "
   ]
  },
  {
   "cell_type": "code",
   "execution_count": 6,
   "metadata": {},
   "outputs": [
    {
     "name": "stdout",
     "output_type": "stream",
     "text": [
      "0.9555555555555556\n"
     ]
    }
   ],
   "source": [
    "#Scaled Data\n",
    "\n",
    "ss = StandardScaler() \n",
    "\n",
    "X_scaled = ss.fit_transform(X) \n",
    "X_train, X_test, y_train, y_test = train_test_split(X_scaled, y) \n",
    "\n",
    "knn = KNeighborsClassifier() \n",
    "knn.fit(X_train, y_train) \n",
    "\n",
    "print(knn.score(X_test, y_test)) "
   ]
  },
  {
   "cell_type": "code",
   "execution_count": null,
   "metadata": {},
   "outputs": [],
   "source": [
    "#The accuracy of the model increased significantly after using StandardScaler."
   ]
  }
 ],
 "metadata": {
  "kernelspec": {
   "display_name": "Python 3",
   "language": "python",
   "name": "python3"
  },
  "language_info": {
   "codemirror_mode": {
    "name": "ipython",
    "version": 3
   },
   "file_extension": ".py",
   "mimetype": "text/x-python",
   "name": "python",
   "nbconvert_exporter": "python",
   "pygments_lexer": "ipython3",
   "version": "3.8.3"
  }
 },
 "nbformat": 4,
 "nbformat_minor": 4
}
